{
  "nbformat": 4,
  "nbformat_minor": 0,
  "metadata": {
    "colab": {
      "name": "Statistics_Assignment_2_calisma.ipynb",
      "provenance": [],
      "collapsed_sections": [],
      "include_colab_link": true
    },
    "kernelspec": {
      "name": "python3",
      "display_name": "Python 3"
    }
  },
  "cells": [
    {
      "cell_type": "markdown",
      "metadata": {
        "id": "view-in-github",
        "colab_type": "text"
      },
      "source": [
        "<a href=\"https://colab.research.google.com/github/ussalbt/Assignment/blob/main/Statistics_Assignment_2%20grup%20%C3%A7alismasi.ipynb\" target=\"_parent\"><img src=\"https://colab.research.google.com/assets/colab-badge.svg\" alt=\"Open In Colab\"/></a>"
      ]
    },
    {
      "cell_type": "markdown",
      "metadata": {
        "id": "K7S4cEyZLTp7"
      },
      "source": [
        "## Descriptive Statistics"
      ]
    },
    {
      "cell_type": "markdown",
      "metadata": {
        "id": "vZRYVyc8H7hi"
      },
      "source": [
        " Import **NumPy**, **SciPy**, and **Pandas**"
      ]
    },
    {
      "cell_type": "code",
      "metadata": {
        "id": "7ShN0klrHIk3"
      },
      "source": [
        "import numpy as np\n",
        "from scipy import stats\n",
        "import pandas as pd\n",
        "import matplotlib.pyplot as plt"
      ],
      "execution_count": null,
      "outputs": []
    },
    {
      "cell_type": "markdown",
      "metadata": {
        "id": "_SaQURIqIA6d"
      },
      "source": [
        " Randomly generate 1,000 samples from the normal distribution using `np.random.normal()`(mean = 100, standard deviation = 15)"
      ]
    },
    {
      "cell_type": "code",
      "metadata": {
        "id": "Jyw_FMX0IRkm",
        "colab": {
          "base_uri": "https://localhost:8080/"
        },
        "outputId": "0ac28aef-633a-46fe-f27e-fbfaad15c4de"
      },
      "source": [
        "#samples = np.random.normal(mean, std.dev, samplesize)\n",
        "samples = np.random.normal(100,15,1000)\n",
        "samples\n"
      ],
      "execution_count": null,
      "outputs": [
        {
          "output_type": "execute_result",
          "data": {
            "text/plain": [
              "array([114.43033523, 112.3774544 ,  89.24195507,  85.35679315,\n",
              "       117.78785519, 105.18069468, 108.7578288 , 119.0379692 ,\n",
              "        75.19401295, 104.93701713,  93.44434972, 111.12252686,\n",
              "        82.66114717, 105.61809368, 111.90892108, 123.29866302,\n",
              "        84.44972933, 102.49166364, 100.34942514, 116.71317519,\n",
              "       126.11505228, 109.41309268, 100.46918191,  82.7067325 ,\n",
              "        86.38569561, 100.52599209, 107.62036824, 107.58496769,\n",
              "       114.6268999 , 103.18300173,  74.49691315, 100.01166778,\n",
              "       105.27629081,  64.07572726, 110.32498176,  81.1846269 ,\n",
              "       100.24152535,  78.90419322,  82.19574587, 116.32689734,\n",
              "        97.41817436, 115.85827425, 101.66213462,  70.96777412,\n",
              "       107.46975503,  99.98757013, 110.32434314, 104.14554574,\n",
              "        86.18284262, 100.75316163, 109.92664367,  97.22752023,\n",
              "       113.57697931, 106.51428697, 115.57576172,  97.87540785,\n",
              "       109.15366131, 101.85786582,  89.3825903 , 111.18981688,\n",
              "       112.60657401,  86.92722032, 111.17934436,  81.97848172,\n",
              "        86.98726385,  99.89111351, 119.49286197, 108.54412173,\n",
              "        89.74625397, 105.62288526,  94.15515917, 116.04287633,\n",
              "       131.25323008, 113.79035774,  95.10117706,  95.51159   ,\n",
              "        95.56966886,  95.26761806,  88.78975616,  95.23030531,\n",
              "        89.70241273,  81.21540499,  66.71420973, 125.84174264,\n",
              "       110.3543286 ,  89.54362147,  90.04910657,  84.02581404,\n",
              "        97.24756427,  99.1434616 ,  98.7180912 , 116.52612366,\n",
              "        92.01638107, 118.92832714, 108.59733801,  80.08882361,\n",
              "        93.90626809,  87.125131  , 113.43904902, 100.56546561,\n",
              "        69.37207523,  80.12735664,  78.50758216, 108.88323598,\n",
              "        89.86416285, 113.56451752, 101.39528735,  96.08316091,\n",
              "       101.8618985 ,  85.06273573,  95.12973153,  86.93402837,\n",
              "        99.43496562, 118.02181111, 144.29121225,  91.33861228,\n",
              "        79.4368843 , 109.18679486,  84.26928663,  98.72612699,\n",
              "        79.93486596, 118.75055859,  90.6439585 ,  90.95781351,\n",
              "       102.26558408,  90.2466116 ,  78.44695939,  75.61512639,\n",
              "        77.32859901, 114.49962711,  75.1945534 , 115.83003831,\n",
              "        84.57143375, 122.72495024,  88.14657805,  94.60151602,\n",
              "       101.74491837,  98.19238037,  72.32120688,  86.60660683,\n",
              "        90.39537306, 123.89767365,  89.10767965, 121.61611196,\n",
              "        80.14300629,  98.19034003,  95.8745332 ,  92.57363789,\n",
              "        82.48411379, 103.8444887 , 117.18075528,  96.68946064,\n",
              "        84.53014647,  92.92604002,  78.28631171, 106.64118152,\n",
              "        83.45547329, 121.17282857,  92.58934654,  97.65523481,\n",
              "        97.38390867, 108.63577713, 104.34098643, 109.52733391,\n",
              "       111.65775688, 118.58408366, 108.79913403,  73.42471065,\n",
              "       104.63895417,  71.76861865,  94.25414135, 116.91509442,\n",
              "       108.27612492,  93.39497799, 111.9222705 ,  95.89821095,\n",
              "        88.19361004, 114.30235174, 117.95697362, 122.87306452,\n",
              "        80.44652778,  87.71785364, 100.63997959,  92.2298121 ,\n",
              "       118.98593022, 101.19866692,  89.87082012, 104.97314353,\n",
              "        86.92251508,  89.17310376,  96.94970118, 122.33348101,\n",
              "        93.90684039,  80.88256967,  97.84783109,  91.08497967,\n",
              "       122.03199611, 130.40125824,  83.03085247,  96.15130439,\n",
              "        70.48643392,  87.20156003,  95.09519929,  93.53943612,\n",
              "        96.48994712,  96.94874224,  80.47431609, 130.75099587,\n",
              "        86.79481124,  99.56955052, 119.89133103,  86.97196214,\n",
              "        83.89237594, 130.53555529, 102.56022552,  98.57874383,\n",
              "        87.46900509,  75.90423447, 109.97331537,  83.65585794,\n",
              "        65.55902734, 127.76007596, 126.2707525 , 119.5720899 ,\n",
              "        97.18545768,  96.21419042, 113.539237  ,  96.20668186,\n",
              "        68.03169853, 100.67636365,  97.18245033, 103.89793329,\n",
              "       108.56224861, 101.9414627 , 103.86196252,  81.47461686,\n",
              "       106.6246222 , 109.62930701, 111.85715608, 119.45496438,\n",
              "        86.09178884, 121.10528227, 106.6289042 , 109.85355408,\n",
              "       106.70440865, 115.40897603, 108.43790683,  86.60440128,\n",
              "       114.25291601,  93.05227431,  94.31686928,  87.48349045,\n",
              "        93.10865804,  99.13887781,  94.80312026, 115.70368104,\n",
              "        81.08655448,  81.81897273, 104.30855462,  85.74806528,\n",
              "       109.18240322,  73.8588238 ,  91.81095056, 112.03970351,\n",
              "       103.4555377 ,  93.76607017, 132.28391374,  92.84832587,\n",
              "        87.15412286,  67.54362996,  89.79015476, 102.456771  ,\n",
              "        97.8154037 , 116.3408672 ,  98.05023312, 116.37980517,\n",
              "        86.68951421,  78.61619538, 106.18403983,  84.46652832,\n",
              "       100.94928913, 101.26602683, 101.23146679,  91.24794071,\n",
              "       132.63315439,  79.54948421,  97.09533483,  96.11894914,\n",
              "        79.96402684,  85.75009512, 104.18763717, 121.43584842,\n",
              "       103.95859211,  95.20682015, 111.05976762,  66.29077816,\n",
              "       105.78051412, 107.1154475 ,  89.87107231,  93.02622468,\n",
              "       119.97961485, 107.7063302 ,  90.06197206,  98.45340623,\n",
              "       108.12732644,  92.6545402 ,  98.13248137, 108.11913376,\n",
              "        89.55350574, 102.45307521,  96.64887094, 114.96238257,\n",
              "       109.91014101, 104.3844053 ,  81.30975455, 108.60207272,\n",
              "        76.66749657, 103.65613939, 109.17380188, 109.99025194,\n",
              "       109.29830014,  72.54305405, 123.89126988,  82.9562616 ,\n",
              "        93.34366128,  87.72510869,  94.11365286,  83.8010734 ,\n",
              "        84.22709798,  99.45824472, 108.90543602,  97.18033485,\n",
              "       108.36390881, 100.77102232,  98.91209192, 113.97217946,\n",
              "        94.92207675,  95.08534015, 115.66547277,  90.65567898,\n",
              "       114.21473921, 124.92271053,  84.21093582,  91.26303047,\n",
              "       106.27397451, 112.50244373, 116.81596226,  90.53586342,\n",
              "       101.53776464, 133.08480088,  57.37049016,  77.45615901,\n",
              "        93.17728371, 110.85565584, 105.73326213,  81.59547979,\n",
              "       116.01154148,  99.90419262,  97.92329564, 123.14555716,\n",
              "        92.63755474,  82.35099707, 107.40969356, 112.98156325,\n",
              "        94.54224093, 124.40952126,  96.2037303 ,  98.74778296,\n",
              "        89.0174561 , 137.14317574, 103.59419104,  84.21072159,\n",
              "        89.43220942,  94.33012187, 110.48084009, 108.94316151,\n",
              "       101.89210714, 108.14176839, 100.50134341, 104.54901303,\n",
              "        96.92196228, 115.60050461, 122.31317227,  70.82063654,\n",
              "       107.2207189 ,  93.47657425, 109.2476977 ,  97.66024611,\n",
              "       111.94307472, 130.17184381, 108.23496965,  94.96875008,\n",
              "        91.19180235, 107.35111648,  98.36846433, 107.0695922 ,\n",
              "        86.29629296,  90.64366296, 108.20102648, 122.2781319 ,\n",
              "        82.03476469, 104.96846691, 113.32415539,  93.78331184,\n",
              "       102.36761815,  81.8651469 , 102.57936724, 101.22184863,\n",
              "        84.42159011,  94.32414972,  90.05340688,  89.99039232,\n",
              "        98.73930018,  76.3977129 , 106.102488  , 105.27385239,\n",
              "       116.13049435,  92.72689397, 102.27963891, 112.67202205,\n",
              "       116.19297135,  97.90943707,  63.5025368 ,  67.9844176 ,\n",
              "       109.56918841, 108.31430951, 117.94157354, 127.14535555,\n",
              "       113.00483939,  97.45331937,  94.59298344,  74.60598219,\n",
              "        84.36081903, 115.78990057, 134.06186976, 108.7603153 ,\n",
              "        67.35513394, 100.05064601, 110.4748221 ,  94.50355509,\n",
              "        78.54333519, 123.06872335,  69.75693475,  91.29818875,\n",
              "       106.07763858, 133.16885853,  85.89973537,  85.09153821,\n",
              "       112.14712074, 101.64044536, 109.64299092,  87.25883038,\n",
              "       124.99614614,  93.45664474,  94.33388155,  95.46295138,\n",
              "        79.44076137,  97.86638009,  83.35494603,  99.58051685,\n",
              "        61.50428783,  97.24784   , 120.06964467, 111.69698364,\n",
              "        99.9823017 ,  95.58849686,  79.58676693,  94.38416244,\n",
              "       102.97639048, 104.97220675, 109.05976723,  94.39439057,\n",
              "        97.99486473,  76.29745822, 103.40627586, 106.69857432,\n",
              "        90.11602235,  98.03522115,  97.25201205, 126.00470035,\n",
              "       106.36176766,  90.47519484, 106.67588055,  98.01190465,\n",
              "        93.32058621, 116.5340693 , 101.55646378, 121.00945618,\n",
              "       111.11410939, 119.1777569 , 114.33228591, 124.24806724,\n",
              "       116.11204662, 104.89403896, 110.58404576, 106.70940328,\n",
              "        90.75190906, 118.31636578,  97.92066413,  98.9074316 ,\n",
              "       125.5890074 , 110.93798959,  92.95708376, 101.00553291,\n",
              "       111.34982743,  73.96495635,  75.22737259,  91.3189865 ,\n",
              "       102.59774798,  99.83388832, 111.32528502,  94.67181825,\n",
              "        92.53397017,  92.00181648, 109.28933732, 115.34557649,\n",
              "       127.0504692 , 120.60446508, 121.4180505 ,  99.13996842,\n",
              "        84.85731327, 111.78000651, 117.07171042, 110.49264519,\n",
              "       103.68539778, 110.70122018,  97.04321415, 112.90634952,\n",
              "       103.08231322,  76.53046669, 103.02012497, 120.6861365 ,\n",
              "       120.80724014, 111.9830066 , 145.57349482, 115.58206992,\n",
              "       112.68416824, 115.49360412, 126.03275228, 116.60598614,\n",
              "       103.44312164, 109.76294127,  98.66829242, 109.75562962,\n",
              "       121.80815605,  96.46249101,  85.79884538,  82.66730456,\n",
              "        97.18681479,  98.08514454,  87.90521769,  88.22192487,\n",
              "       106.31295488,  86.58476735,  95.33014797,  94.1358906 ,\n",
              "       100.02955612, 129.16926385,  96.26424981,  87.93029138,\n",
              "        82.83464508,  94.61694091, 117.81995002, 110.02574442,\n",
              "        73.17027975,  98.25296217,  98.46135894,  95.39459926,\n",
              "       109.60753998,  99.52260919, 119.15658211,  97.92761819,\n",
              "        86.86223265, 113.09650207, 108.85142006,  76.45212157,\n",
              "        69.94139529,  82.09951603, 100.13596535,  92.97054061,\n",
              "        88.33143983,  89.78860884,  79.0483171 , 115.43726899,\n",
              "       113.3960749 ,  90.66853976,  85.07200177, 123.07735579,\n",
              "        97.70126071,  84.15194635, 110.63823008, 142.287796  ,\n",
              "        94.43442559,  92.56988147, 109.90455925,  93.15369082,\n",
              "        87.95422763, 116.27290021,  78.72625397,  86.36429735,\n",
              "       138.76456809, 133.98668606,  82.86723976, 107.58276915,\n",
              "        88.70068205, 118.02975806,  95.63143703, 113.84280684,\n",
              "       112.94839749, 111.24817027,  83.99284457,  78.09196006,\n",
              "       100.00072397, 100.31438351,  91.74632478, 106.40560451,\n",
              "        85.55160085,  69.45545576,  92.625407  , 112.34908729,\n",
              "        89.38720643,  94.36884059,  97.68336995, 107.99557712,\n",
              "       115.77839863,  87.24650586,  90.75839603, 104.07438511,\n",
              "       111.38784453, 101.61620575,  97.28235463,  73.58216988,\n",
              "        86.70116024,  93.36953467,  88.98220609, 121.30018633,\n",
              "       109.83726802, 115.46548701, 118.50841463,  90.54425028,\n",
              "        91.59538423, 109.27202437,  94.51699844, 126.50907461,\n",
              "       117.82796351,  80.19489305,  83.44592938,  87.36414091,\n",
              "       102.67139476, 119.47809259,  96.18285263, 100.91321491,\n",
              "       132.61794096, 113.74544016,  98.82028807, 105.08236262,\n",
              "        90.62678373, 126.4319686 , 114.14950756, 101.44769262,\n",
              "       102.72223229, 100.30840004, 101.01344425, 125.26549734,\n",
              "        58.41705189, 120.82199417,  92.90426017, 138.16991249,\n",
              "       100.30507803,  86.46585351,  96.66641241,  91.06408622,\n",
              "       117.3202686 , 103.60488458,  86.57299247,  84.459136  ,\n",
              "       100.88632198, 101.74093666,  97.09314368,  89.23885074,\n",
              "        91.72105757, 120.13496526, 111.29462255,  98.94874817,\n",
              "        98.27226323, 103.1446723 ,  86.80091821, 102.66656586,\n",
              "       111.1797336 ,  85.49818896, 114.00244164, 103.81281365,\n",
              "       107.91138512,  94.07856041,  97.20958178, 130.85982794,\n",
              "        79.63802133,  88.27844745,  78.57218612,  69.29597802,\n",
              "       118.31518381, 103.13877169,  84.56369131, 112.93932377,\n",
              "       102.32334859, 103.9444378 ,  54.65302208, 110.38737758,\n",
              "        78.80801846, 111.06184598, 120.57387575, 119.16352999,\n",
              "       112.52854766,  91.01945042,  89.27409586, 101.04387949,\n",
              "        88.59342529, 109.706971  , 100.88492538, 105.3370754 ,\n",
              "        96.75577319,  85.84076125,  81.80448032,  94.37508313,\n",
              "       112.29676361,  78.87485507,  77.14934927,  92.07843201,\n",
              "        83.14060013,  92.71310765, 110.43538663,  83.10720956,\n",
              "        82.44480401,  85.30118735, 114.02256392, 116.19744124,\n",
              "        85.43019115, 118.8329219 , 104.2969882 ,  76.30505289,\n",
              "       117.03520808, 107.37789034,  87.23287807, 124.55475802,\n",
              "        92.64841705, 123.88142893,  97.71166494, 110.26850707,\n",
              "        89.15565461, 109.41152044,  89.78088105,  98.52783636,\n",
              "        76.41003886, 118.99369407, 113.43697322, 101.04194829,\n",
              "        95.09922989, 108.92043146,  94.5753095 ,  88.68441368,\n",
              "        94.786398  , 124.89919333,  90.07097451, 114.19660493,\n",
              "       100.64827433, 123.23791521,  92.47897855, 101.15338375,\n",
              "        97.15093068,  93.52042691, 115.67589665,  84.09093524,\n",
              "        75.87069511,  89.08075015,  80.56890991, 107.99454224,\n",
              "       105.89018884, 116.04514813,  93.31111115, 104.08198793,\n",
              "        85.07602839,  94.99918151, 109.10141431, 118.76301934,\n",
              "       107.95164102,  94.38404932,  91.35330971,  87.21095002,\n",
              "       111.79070904, 115.20320659, 122.22685245, 100.53830076,\n",
              "       111.42021546, 113.60114468, 105.7862539 ,  78.63005728,\n",
              "       116.2896618 ,  88.36491231,  90.46211958, 122.28723202,\n",
              "       106.11407419, 108.55388059,  90.88005345,  88.39579817,\n",
              "        94.20621311,  92.81782537, 106.05904113,  96.16417796,\n",
              "        97.49370802,  95.12799934, 101.96853528, 113.60426586,\n",
              "       117.82558038,  90.02615741, 120.49205056,  87.24985096,\n",
              "       129.78966517, 129.85879347,  97.77884681, 104.21860983,\n",
              "        81.2187435 ,  75.54144808,  86.64080403, 112.05975017,\n",
              "        99.31548669, 127.78419893,  70.72915827, 104.91781679,\n",
              "       102.87752923,  78.86657101,  74.4033361 , 127.89717047,\n",
              "       118.60933408,  75.44951165, 119.14361431, 108.81395799,\n",
              "       105.50899188,  98.98535971,  82.18379979,  98.53211715,\n",
              "       101.38217295, 101.74499721,  88.03558698, 105.47411426,\n",
              "       104.80728602, 106.71644521, 110.92647106,  94.87971799,\n",
              "       112.49859271,  75.17272167,  96.57738229, 128.58037436,\n",
              "       100.70238892, 111.79537941,  83.5348178 ,  95.489344  ,\n",
              "       102.52810336,  84.22344494, 121.03723328, 122.37546374,\n",
              "        81.04703926, 104.49439795,  77.85833606, 100.24697688,\n",
              "        91.72486853,  89.44860707, 101.6954177 ,  99.39709442,\n",
              "        78.09441822,  99.45593875, 114.17935534,  97.18175524,\n",
              "        89.83377044,  72.20383178,  84.82720147, 105.26550647,\n",
              "        90.59589899, 113.05460135,  99.11712506,  97.79354848,\n",
              "        73.0822638 ,  94.58656156,  93.28693332,  92.14950048,\n",
              "       104.74235505,  94.14405489, 109.89714884, 108.51330116,\n",
              "        92.55612909, 111.94477021, 120.04338967,  72.14958061,\n",
              "        89.66793416, 105.95594369, 109.61067526,  94.76251154,\n",
              "        98.81881424, 109.91686557,  95.43143611,  90.7628747 ,\n",
              "       117.75226491, 113.61224338, 130.21718681, 112.96859654,\n",
              "        88.06910663,  75.89706391,  92.60044203,  86.38869794,\n",
              "       106.52948189, 105.57918546, 130.78624803, 100.02932386,\n",
              "        89.90147677,  93.552651  ,  90.70952377,  89.42270533,\n",
              "        82.61101842, 111.59457413, 105.95615174,  78.76562809,\n",
              "        78.12994049, 110.16028243, 108.59786664, 119.90305461,\n",
              "        92.39778735, 110.44532784, 110.60383923, 112.84066376,\n",
              "       118.63735881,  80.72594062, 111.37676399, 103.94275219,\n",
              "        91.38473281,  83.28698399, 118.97166959,  85.83071703,\n",
              "       108.62983494, 103.64562397, 106.07364641,  96.65907844,\n",
              "       116.4664518 ,  91.53062474, 130.70741253, 109.58706704,\n",
              "        77.0251589 , 100.86020231,  97.14472121, 111.10914036,\n",
              "       111.26690308, 108.78313527,  80.66291501,  97.83553977,\n",
              "       100.78108117, 104.28645419,  92.34151161,  82.46359867,\n",
              "        71.19954585,  77.83154842,  77.66782065,  82.32591539,\n",
              "        97.85231763, 106.61775925, 103.77850588, 109.87450306,\n",
              "       115.22293839,  94.98804315, 109.45836348,  98.46730613,\n",
              "       102.24607312,  84.40189952, 121.12794694,  90.38339319,\n",
              "       118.8185763 ,  92.80848937,  82.09639582, 117.59476917,\n",
              "        86.3161338 ,  71.46645401,  76.99800349,  93.20936443,\n",
              "       115.8478477 , 110.10730014,  94.46646049, 106.77103818,\n",
              "       106.56807098,  56.5380984 ,  93.46670413,  83.93702674,\n",
              "        98.5789386 ,  92.36483316,  78.57890905,  94.39341595,\n",
              "        92.94826978, 121.32489073,  79.33676114, 103.00906767,\n",
              "        85.99042005,  94.67998663, 108.46121885,  95.08921916])"
            ]
          },
          "metadata": {},
          "execution_count": 2
        }
      ]
    },
    {
      "cell_type": "markdown",
      "metadata": {
        "id": "CDF8m3a4IYOC"
      },
      "source": [
        "Compute the **mean**, **median**, and **mode**"
      ]
    },
    {
      "cell_type": "code",
      "metadata": {
        "id": "ZKbeqxaKIoNs",
        "colab": {
          "base_uri": "https://localhost:8080/"
        },
        "outputId": "b451abeb-eac7-47ab-ce43-0ccbe9430a89"
      },
      "source": [
        "mean = np.mean(samples)\n",
        "median = np.median(samples)\n",
        "mode = stats.mode(samples)\n",
        "print(\"mean:\",mean)\n",
        "print(\"median:\",median)\n",
        "print(\"mode:\",mode)\n"
      ],
      "execution_count": null,
      "outputs": [
        {
          "output_type": "stream",
          "name": "stdout",
          "text": [
            "mean: 99.86112505160577\n",
            "median: 99.35629055383893\n",
            "mode: ModeResult(mode=array([54.65302208]), count=array([1]))\n"
          ]
        }
      ]
    },
    {
      "cell_type": "markdown",
      "metadata": {
        "id": "skT8m39XI60w"
      },
      "source": [
        "Compute the **min**, **max**, **Q1**, **Q3**, and **interquartile range**"
      ]
    },
    {
      "cell_type": "code",
      "metadata": {
        "id": "VaiDphm8It0O",
        "colab": {
          "base_uri": "https://localhost:8080/"
        },
        "outputId": "64cc7c96-f5a1-461b-f70d-3f8b0cb13f3a"
      },
      "source": [
        "min = np.min(samples)\n",
        "max = np.max(samples)\n",
        "q1 = np.percentile(samples,25)\n",
        "q3 = np.percentile(samples,75)\n",
        "iqr = q3-q1\n",
        "iqr1 = stats.iqr(samples)\n",
        "print(\"Q1:\",q1)\n",
        "print(\"Q3:\",q3)\n",
        "print(\"IQR:\",iqr)\n",
        "print(\"IQR1:\",iqr1)"
      ],
      "execution_count": null,
      "outputs": [
        {
          "output_type": "stream",
          "name": "stdout",
          "text": [
            "Q1: 89.78976828037543\n",
            "Q3: 110.3323184731328\n",
            "IQR: 20.542550192757375\n",
            "IQR1: 20.542550192757375\n"
          ]
        }
      ]
    },
    {
      "cell_type": "markdown",
      "metadata": {
        "id": "m53Dv3n5JHQi"
      },
      "source": [
        "Compute the **variance** and **standard deviation**"
      ]
    },
    {
      "cell_type": "code",
      "metadata": {
        "id": "6JFaAYdrJbeN"
      },
      "source": [
        "variance = np.var(samples)\n",
        "std_dev = np.std(samples)"
      ],
      "execution_count": null,
      "outputs": []
    },
    {
      "cell_type": "markdown",
      "metadata": {
        "id": "5eup4hI1JzqX"
      },
      "source": [
        "Compute the **skewness** and **kurtosis**\n",
        "\n",
        "What is Skewness?\n",
        "1.   If the skewness is between -0.5 and 0.5, the data are fairly symmetrical\n",
        "\n",
        "2.   If the skewness is between -1 and – 0.5 or between 0.5 and 1, the data are moderately skewed\n",
        "\n",
        "3.   If the skewness is less than -1 or greater than 1, the data are highly skewed\n",
        "\n",
        "What is Kurtosis?\n",
        "1. A positive value tells you that you have heavy-tails (burj al khalifa).\n",
        "2. A negative value means that you have light-tails (Hagia Sofia).\n",
        "\n",
        "\n",
        "\n",
        "\n"
      ]
    },
    {
      "cell_type": "code",
      "metadata": {
        "id": "YO3obyDnJ3_D",
        "colab": {
          "base_uri": "https://localhost:8080/"
        },
        "outputId": "64278f51-50dd-4aa7-c3f8-ea0831b50615"
      },
      "source": [
        "skewness = stats.skew(samples)\n",
        "kurtosis = stats.kurtosis(samples)\n",
        "print(\"skewness:\",skewness)\n",
        "print(\"kurtosis:\",kurtosis)"
      ],
      "execution_count": null,
      "outputs": [
        {
          "output_type": "stream",
          "name": "stdout",
          "text": [
            "skewness: -0.19229443134519358\n",
            "kurtosis: 0.04650303249905985\n"
          ]
        }
      ]
    },
    {
      "cell_type": "markdown",
      "metadata": {
        "id": "a5UNc8PUKnbU"
      },
      "source": [
        "## NumPy Correlation Calculation"
      ]
    },
    {
      "cell_type": "markdown",
      "metadata": {
        "id": "cLiqxE1CMNTg"
      },
      "source": [
        "Create an array x of integers between 10 (inclusive) and 20 (exclusive). Use `np.arange()`"
      ]
    },
    {
      "cell_type": "code",
      "metadata": {
        "id": "5LAaQ6w5L-2L",
        "colab": {
          "base_uri": "https://localhost:8080/"
        },
        "outputId": "28bb5c11-f10f-49b0-aa97-c6f4173eff7e"
      },
      "source": [
        "x = np.arange(10,20)\n",
        "print(x)"
      ],
      "execution_count": null,
      "outputs": [
        {
          "output_type": "stream",
          "name": "stdout",
          "text": [
            "[10 11 12 13 14 15 16 17 18 19]\n"
          ]
        }
      ]
    },
    {
      "cell_type": "markdown",
      "metadata": {
        "id": "qyCIaukNMZPf"
      },
      "source": [
        "Then use `np.array()` to create a second array y containing 10 arbitrary integers."
      ]
    },
    {
      "cell_type": "code",
      "metadata": {
        "id": "p27eW__gNMdh",
        "colab": {
          "base_uri": "https://localhost:8080/"
        },
        "outputId": "4143f1a5-46bc-4910-a915-31542ddfb32c"
      },
      "source": [
        "y = np.random.randint(1,100,10)\n",
        "print(y)"
      ],
      "execution_count": null,
      "outputs": [
        {
          "output_type": "stream",
          "name": "stdout",
          "text": [
            "[90 38 52 97 71 53 35  4 10 23]\n"
          ]
        }
      ]
    },
    {
      "cell_type": "markdown",
      "metadata": {
        "id": "Kh_VeKwINSqS"
      },
      "source": [
        "Once you have two arrays of the same length, you can compute the **correlation coefficient** between x and y\n",
        "\n",
        "![image.png](data:image/png;base64,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)\n",
        "\n",
        "![image.png](data:image/png;base64,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)"
      ]
    },
    {
      "cell_type": "code",
      "metadata": {
        "id": "yrtC6rPkNSDC",
        "colab": {
          "base_uri": "https://localhost:8080/"
        },
        "outputId": "78ef2ec2-7fb4-4866-caeb-d3afc967987c"
      },
      "source": [
        "r = np.corrcoef(x,y)\n",
        "r"
      ],
      "execution_count": null,
      "outputs": [
        {
          "output_type": "execute_result",
          "data": {
            "text/plain": [
              "array([[ 1.        , -0.72109752],\n",
              "       [-0.72109752,  1.        ]])"
            ]
          },
          "metadata": {},
          "execution_count": 18
        }
      ]
    },
    {
      "cell_type": "markdown",
      "metadata": {
        "id": "vXieLjYiNtPi"
      },
      "source": [
        "## Pandas Correlation Calculation"
      ]
    },
    {
      "cell_type": "markdown",
      "metadata": {
        "id": "z56t0k0qNvkr"
      },
      "source": [
        "Run the code below"
      ]
    },
    {
      "cell_type": "code",
      "metadata": {
        "id": "9AVBMJCyNuwb",
        "outputId": "65182df3-2431-4f4c-e728-eee8da933909",
        "colab": {
          "base_uri": "https://localhost:8080/",
          "height": 217
        }
      },
      "source": [
        "x = pd.Series(range(10, 20))\n",
        "y = pd.Series([2, 1, 4, 5, 8, 12, 18, 25, 96, 48])\n",
        "\n",
        "\n"
      ],
      "execution_count": 1,
      "outputs": [
        {
          "output_type": "error",
          "ename": "NameError",
          "evalue": "ignored",
          "traceback": [
            "\u001b[0;31m---------------------------------------------------------------------------\u001b[0m",
            "\u001b[0;31mNameError\u001b[0m                                 Traceback (most recent call last)",
            "\u001b[0;32m<ipython-input-1-27227af71e33>\u001b[0m in \u001b[0;36m<module>\u001b[0;34m()\u001b[0m\n\u001b[0;32m----> 1\u001b[0;31m \u001b[0mx\u001b[0m \u001b[0;34m=\u001b[0m \u001b[0mpd\u001b[0m\u001b[0;34m.\u001b[0m\u001b[0mSeries\u001b[0m\u001b[0;34m(\u001b[0m\u001b[0mrange\u001b[0m\u001b[0;34m(\u001b[0m\u001b[0;36m10\u001b[0m\u001b[0;34m,\u001b[0m \u001b[0;36m20\u001b[0m\u001b[0;34m)\u001b[0m\u001b[0;34m)\u001b[0m\u001b[0;34m\u001b[0m\u001b[0;34m\u001b[0m\u001b[0m\n\u001b[0m\u001b[1;32m      2\u001b[0m \u001b[0my\u001b[0m \u001b[0;34m=\u001b[0m \u001b[0mpd\u001b[0m\u001b[0;34m.\u001b[0m\u001b[0mSeries\u001b[0m\u001b[0;34m(\u001b[0m\u001b[0;34m[\u001b[0m\u001b[0;36m2\u001b[0m\u001b[0;34m,\u001b[0m \u001b[0;36m1\u001b[0m\u001b[0;34m,\u001b[0m \u001b[0;36m4\u001b[0m\u001b[0;34m,\u001b[0m \u001b[0;36m5\u001b[0m\u001b[0;34m,\u001b[0m \u001b[0;36m8\u001b[0m\u001b[0;34m,\u001b[0m \u001b[0;36m12\u001b[0m\u001b[0;34m,\u001b[0m \u001b[0;36m18\u001b[0m\u001b[0;34m,\u001b[0m \u001b[0;36m25\u001b[0m\u001b[0;34m,\u001b[0m \u001b[0;36m96\u001b[0m\u001b[0;34m,\u001b[0m \u001b[0;36m48\u001b[0m\u001b[0;34m]\u001b[0m\u001b[0;34m)\u001b[0m\u001b[0;34m\u001b[0m\u001b[0;34m\u001b[0m\u001b[0m\n\u001b[1;32m      3\u001b[0m \u001b[0;34m\u001b[0m\u001b[0m\n\u001b[1;32m      4\u001b[0m \u001b[0;34m\u001b[0m\u001b[0m\n",
            "\u001b[0;31mNameError\u001b[0m: name 'pd' is not defined"
          ]
        }
      ]
    },
    {
      "cell_type": "markdown",
      "metadata": {
        "id": "ZajVXYe2OCih"
      },
      "source": [
        "Call the relevant method  to calculate Pearson's r correlation."
      ]
    },
    {
      "cell_type": "code",
      "metadata": {
        "id": "Ak_rkzbLOafj",
        "colab": {
          "base_uri": "https://localhost:8080/"
        },
        "outputId": "056296e9-98b6-48e2-eab3-bf47bca59816"
      },
      "source": [
        "r = x.corr(y)\n",
        "r= y.corr(x)\n",
        "r"
      ],
      "execution_count": null,
      "outputs": [
        {
          "output_type": "execute_result",
          "data": {
            "text/plain": [
              "0.7586402890911869"
            ]
          },
          "metadata": {},
          "execution_count": 20
        }
      ]
    },
    {
      "cell_type": "markdown",
      "metadata": {
        "id": "1CygSbnROb9V"
      },
      "source": [
        "OPTIONAL. Call the relevant method to calculate Spearman's rho correlation."
      ]
    },
    {
      "cell_type": "code",
      "metadata": {
        "id": "xp_QkXwmOlYY",
        "colab": {
          "base_uri": "https://localhost:8080/"
        },
        "outputId": "a6162acf-b726-42af-dd2d-3a7753e2d64c"
      },
      "source": [
        "rho = x.corr(y, method='spearman') \n",
        "rho"
      ],
      "execution_count": null,
      "outputs": [
        {
          "output_type": "execute_result",
          "data": {
            "text/plain": [
              "0.9757575757575757"
            ]
          },
          "metadata": {},
          "execution_count": 22
        }
      ]
    },
    {
      "cell_type": "markdown",
      "metadata": {
        "id": "we7pg7kdOo7y"
      },
      "source": [
        "## Seaborn Dataset Tips"
      ]
    },
    {
      "cell_type": "markdown",
      "metadata": {
        "id": "VlzgFKN7OvqX"
      },
      "source": [
        "Import Seaborn Library\n",
        "\n",
        "Seaborn, Matplotlib kütüphanesi tabanlı, istatiksel bir Python veri görselleştirme kütüphanesidir. Seaborn kullanıcılara istatiksel görselleştirmeler yapmaları için high-level (yüksek seviyeli) bir arayüz sunar. "
      ]
    },
    {
      "cell_type": "code",
      "metadata": {
        "id": "t-49JRRqO4pw"
      },
      "source": [
        "import seaborn as sns"
      ],
      "execution_count": null,
      "outputs": []
    },
    {
      "cell_type": "markdown",
      "metadata": {
        "id": "0INVBB4tO4y4"
      },
      "source": [
        "Load \"tips\" dataset from Seaborn"
      ]
    },
    {
      "cell_type": "code",
      "metadata": {
        "id": "kieLvcM1PBv7"
      },
      "source": [
        "tips = sns.load_dataset(\"tips\")"
      ],
      "execution_count": null,
      "outputs": []
    },
    {
      "cell_type": "markdown",
      "metadata": {
        "id": "o2ISqVQrPh5S"
      },
      "source": [
        "Generate descriptive statistics include those that summarize the central tendency, dispersion"
      ]
    },
    {
      "cell_type": "code",
      "metadata": {
        "id": "FyFvmdbJPVg6",
        "outputId": "12c2398d-1cc5-413d-e5b4-d57f894578e1",
        "colab": {
          "base_uri": "https://localhost:8080/",
          "height": 300
        }
      },
      "source": [
        "tips.describe()"
      ],
      "execution_count": null,
      "outputs": [
        {
          "output_type": "execute_result",
          "data": {
            "text/html": [
              "\n",
              "  <div id=\"df-e19daf07-889d-4821-8b48-bbf8c05c70d3\">\n",
              "    <div class=\"colab-df-container\">\n",
              "      <div>\n",
              "<style scoped>\n",
              "    .dataframe tbody tr th:only-of-type {\n",
              "        vertical-align: middle;\n",
              "    }\n",
              "\n",
              "    .dataframe tbody tr th {\n",
              "        vertical-align: top;\n",
              "    }\n",
              "\n",
              "    .dataframe thead th {\n",
              "        text-align: right;\n",
              "    }\n",
              "</style>\n",
              "<table border=\"1\" class=\"dataframe\">\n",
              "  <thead>\n",
              "    <tr style=\"text-align: right;\">\n",
              "      <th></th>\n",
              "      <th>total_bill</th>\n",
              "      <th>tip</th>\n",
              "      <th>size</th>\n",
              "    </tr>\n",
              "  </thead>\n",
              "  <tbody>\n",
              "    <tr>\n",
              "      <th>count</th>\n",
              "      <td>244.000000</td>\n",
              "      <td>244.000000</td>\n",
              "      <td>244.000000</td>\n",
              "    </tr>\n",
              "    <tr>\n",
              "      <th>mean</th>\n",
              "      <td>19.785943</td>\n",
              "      <td>2.998279</td>\n",
              "      <td>2.569672</td>\n",
              "    </tr>\n",
              "    <tr>\n",
              "      <th>std</th>\n",
              "      <td>8.902412</td>\n",
              "      <td>1.383638</td>\n",
              "      <td>0.951100</td>\n",
              "    </tr>\n",
              "    <tr>\n",
              "      <th>min</th>\n",
              "      <td>3.070000</td>\n",
              "      <td>1.000000</td>\n",
              "      <td>1.000000</td>\n",
              "    </tr>\n",
              "    <tr>\n",
              "      <th>25%</th>\n",
              "      <td>13.347500</td>\n",
              "      <td>2.000000</td>\n",
              "      <td>2.000000</td>\n",
              "    </tr>\n",
              "    <tr>\n",
              "      <th>50%</th>\n",
              "      <td>17.795000</td>\n",
              "      <td>2.900000</td>\n",
              "      <td>2.000000</td>\n",
              "    </tr>\n",
              "    <tr>\n",
              "      <th>75%</th>\n",
              "      <td>24.127500</td>\n",
              "      <td>3.562500</td>\n",
              "      <td>3.000000</td>\n",
              "    </tr>\n",
              "    <tr>\n",
              "      <th>max</th>\n",
              "      <td>50.810000</td>\n",
              "      <td>10.000000</td>\n",
              "      <td>6.000000</td>\n",
              "    </tr>\n",
              "  </tbody>\n",
              "</table>\n",
              "</div>\n",
              "      <button class=\"colab-df-convert\" onclick=\"convertToInteractive('df-e19daf07-889d-4821-8b48-bbf8c05c70d3')\"\n",
              "              title=\"Convert this dataframe to an interactive table.\"\n",
              "              style=\"display:none;\">\n",
              "        \n",
              "  <svg xmlns=\"http://www.w3.org/2000/svg\" height=\"24px\"viewBox=\"0 0 24 24\"\n",
              "       width=\"24px\">\n",
              "    <path d=\"M0 0h24v24H0V0z\" fill=\"none\"/>\n",
              "    <path d=\"M18.56 5.44l.94 2.06.94-2.06 2.06-.94-2.06-.94-.94-2.06-.94 2.06-2.06.94zm-11 1L8.5 8.5l.94-2.06 2.06-.94-2.06-.94L8.5 2.5l-.94 2.06-2.06.94zm10 10l.94 2.06.94-2.06 2.06-.94-2.06-.94-.94-2.06-.94 2.06-2.06.94z\"/><path d=\"M17.41 7.96l-1.37-1.37c-.4-.4-.92-.59-1.43-.59-.52 0-1.04.2-1.43.59L10.3 9.45l-7.72 7.72c-.78.78-.78 2.05 0 2.83L4 21.41c.39.39.9.59 1.41.59.51 0 1.02-.2 1.41-.59l7.78-7.78 2.81-2.81c.8-.78.8-2.07 0-2.86zM5.41 20L4 18.59l7.72-7.72 1.47 1.35L5.41 20z\"/>\n",
              "  </svg>\n",
              "      </button>\n",
              "      \n",
              "  <style>\n",
              "    .colab-df-container {\n",
              "      display:flex;\n",
              "      flex-wrap:wrap;\n",
              "      gap: 12px;\n",
              "    }\n",
              "\n",
              "    .colab-df-convert {\n",
              "      background-color: #E8F0FE;\n",
              "      border: none;\n",
              "      border-radius: 50%;\n",
              "      cursor: pointer;\n",
              "      display: none;\n",
              "      fill: #1967D2;\n",
              "      height: 32px;\n",
              "      padding: 0 0 0 0;\n",
              "      width: 32px;\n",
              "    }\n",
              "\n",
              "    .colab-df-convert:hover {\n",
              "      background-color: #E2EBFA;\n",
              "      box-shadow: 0px 1px 2px rgba(60, 64, 67, 0.3), 0px 1px 3px 1px rgba(60, 64, 67, 0.15);\n",
              "      fill: #174EA6;\n",
              "    }\n",
              "\n",
              "    [theme=dark] .colab-df-convert {\n",
              "      background-color: #3B4455;\n",
              "      fill: #D2E3FC;\n",
              "    }\n",
              "\n",
              "    [theme=dark] .colab-df-convert:hover {\n",
              "      background-color: #434B5C;\n",
              "      box-shadow: 0px 1px 3px 1px rgba(0, 0, 0, 0.15);\n",
              "      filter: drop-shadow(0px 1px 2px rgba(0, 0, 0, 0.3));\n",
              "      fill: #FFFFFF;\n",
              "    }\n",
              "  </style>\n",
              "\n",
              "      <script>\n",
              "        const buttonEl =\n",
              "          document.querySelector('#df-e19daf07-889d-4821-8b48-bbf8c05c70d3 button.colab-df-convert');\n",
              "        buttonEl.style.display =\n",
              "          google.colab.kernel.accessAllowed ? 'block' : 'none';\n",
              "\n",
              "        async function convertToInteractive(key) {\n",
              "          const element = document.querySelector('#df-e19daf07-889d-4821-8b48-bbf8c05c70d3');\n",
              "          const dataTable =\n",
              "            await google.colab.kernel.invokeFunction('convertToInteractive',\n",
              "                                                     [key], {});\n",
              "          if (!dataTable) return;\n",
              "\n",
              "          const docLinkHtml = 'Like what you see? Visit the ' +\n",
              "            '<a target=\"_blank\" href=https://colab.research.google.com/notebooks/data_table.ipynb>data table notebook</a>'\n",
              "            + ' to learn more about interactive tables.';\n",
              "          element.innerHTML = '';\n",
              "          dataTable['output_type'] = 'display_data';\n",
              "          await google.colab.output.renderOutput(dataTable, element);\n",
              "          const docLink = document.createElement('div');\n",
              "          docLink.innerHTML = docLinkHtml;\n",
              "          element.appendChild(docLink);\n",
              "        }\n",
              "      </script>\n",
              "    </div>\n",
              "  </div>\n",
              "  "
            ],
            "text/plain": [
              "       total_bill         tip        size\n",
              "count  244.000000  244.000000  244.000000\n",
              "mean    19.785943    2.998279    2.569672\n",
              "std      8.902412    1.383638    0.951100\n",
              "min      3.070000    1.000000    1.000000\n",
              "25%     13.347500    2.000000    2.000000\n",
              "50%     17.795000    2.900000    2.000000\n",
              "75%     24.127500    3.562500    3.000000\n",
              "max     50.810000   10.000000    6.000000"
            ]
          },
          "metadata": {},
          "execution_count": 25
        }
      ]
    },
    {
      "cell_type": "markdown",
      "metadata": {
        "id": "3yCRK4VJPzRo"
      },
      "source": [
        "Call the relevant method to calculate pairwise Pearson's r correlation of columns"
      ]
    },
    {
      "cell_type": "code",
      "metadata": {
        "id": "qwvGzDU8PGnM",
        "outputId": "8c40b2e1-a9c3-4009-ae2a-692213a56056",
        "colab": {
          "base_uri": "https://localhost:8080/",
          "height": 143
        }
      },
      "source": [
        "tips.corr('pearson')"
      ],
      "execution_count": null,
      "outputs": [
        {
          "output_type": "execute_result",
          "data": {
            "text/html": [
              "\n",
              "  <div id=\"df-dda6be03-656c-4e45-acd6-79f8c10bce44\">\n",
              "    <div class=\"colab-df-container\">\n",
              "      <div>\n",
              "<style scoped>\n",
              "    .dataframe tbody tr th:only-of-type {\n",
              "        vertical-align: middle;\n",
              "    }\n",
              "\n",
              "    .dataframe tbody tr th {\n",
              "        vertical-align: top;\n",
              "    }\n",
              "\n",
              "    .dataframe thead th {\n",
              "        text-align: right;\n",
              "    }\n",
              "</style>\n",
              "<table border=\"1\" class=\"dataframe\">\n",
              "  <thead>\n",
              "    <tr style=\"text-align: right;\">\n",
              "      <th></th>\n",
              "      <th>total_bill</th>\n",
              "      <th>tip</th>\n",
              "      <th>size</th>\n",
              "    </tr>\n",
              "  </thead>\n",
              "  <tbody>\n",
              "    <tr>\n",
              "      <th>total_bill</th>\n",
              "      <td>1.000000</td>\n",
              "      <td>0.675734</td>\n",
              "      <td>0.598315</td>\n",
              "    </tr>\n",
              "    <tr>\n",
              "      <th>tip</th>\n",
              "      <td>0.675734</td>\n",
              "      <td>1.000000</td>\n",
              "      <td>0.489299</td>\n",
              "    </tr>\n",
              "    <tr>\n",
              "      <th>size</th>\n",
              "      <td>0.598315</td>\n",
              "      <td>0.489299</td>\n",
              "      <td>1.000000</td>\n",
              "    </tr>\n",
              "  </tbody>\n",
              "</table>\n",
              "</div>\n",
              "      <button class=\"colab-df-convert\" onclick=\"convertToInteractive('df-dda6be03-656c-4e45-acd6-79f8c10bce44')\"\n",
              "              title=\"Convert this dataframe to an interactive table.\"\n",
              "              style=\"display:none;\">\n",
              "        \n",
              "  <svg xmlns=\"http://www.w3.org/2000/svg\" height=\"24px\"viewBox=\"0 0 24 24\"\n",
              "       width=\"24px\">\n",
              "    <path d=\"M0 0h24v24H0V0z\" fill=\"none\"/>\n",
              "    <path d=\"M18.56 5.44l.94 2.06.94-2.06 2.06-.94-2.06-.94-.94-2.06-.94 2.06-2.06.94zm-11 1L8.5 8.5l.94-2.06 2.06-.94-2.06-.94L8.5 2.5l-.94 2.06-2.06.94zm10 10l.94 2.06.94-2.06 2.06-.94-2.06-.94-.94-2.06-.94 2.06-2.06.94z\"/><path d=\"M17.41 7.96l-1.37-1.37c-.4-.4-.92-.59-1.43-.59-.52 0-1.04.2-1.43.59L10.3 9.45l-7.72 7.72c-.78.78-.78 2.05 0 2.83L4 21.41c.39.39.9.59 1.41.59.51 0 1.02-.2 1.41-.59l7.78-7.78 2.81-2.81c.8-.78.8-2.07 0-2.86zM5.41 20L4 18.59l7.72-7.72 1.47 1.35L5.41 20z\"/>\n",
              "  </svg>\n",
              "      </button>\n",
              "      \n",
              "  <style>\n",
              "    .colab-df-container {\n",
              "      display:flex;\n",
              "      flex-wrap:wrap;\n",
              "      gap: 12px;\n",
              "    }\n",
              "\n",
              "    .colab-df-convert {\n",
              "      background-color: #E8F0FE;\n",
              "      border: none;\n",
              "      border-radius: 50%;\n",
              "      cursor: pointer;\n",
              "      display: none;\n",
              "      fill: #1967D2;\n",
              "      height: 32px;\n",
              "      padding: 0 0 0 0;\n",
              "      width: 32px;\n",
              "    }\n",
              "\n",
              "    .colab-df-convert:hover {\n",
              "      background-color: #E2EBFA;\n",
              "      box-shadow: 0px 1px 2px rgba(60, 64, 67, 0.3), 0px 1px 3px 1px rgba(60, 64, 67, 0.15);\n",
              "      fill: #174EA6;\n",
              "    }\n",
              "\n",
              "    [theme=dark] .colab-df-convert {\n",
              "      background-color: #3B4455;\n",
              "      fill: #D2E3FC;\n",
              "    }\n",
              "\n",
              "    [theme=dark] .colab-df-convert:hover {\n",
              "      background-color: #434B5C;\n",
              "      box-shadow: 0px 1px 3px 1px rgba(0, 0, 0, 0.15);\n",
              "      filter: drop-shadow(0px 1px 2px rgba(0, 0, 0, 0.3));\n",
              "      fill: #FFFFFF;\n",
              "    }\n",
              "  </style>\n",
              "\n",
              "      <script>\n",
              "        const buttonEl =\n",
              "          document.querySelector('#df-dda6be03-656c-4e45-acd6-79f8c10bce44 button.colab-df-convert');\n",
              "        buttonEl.style.display =\n",
              "          google.colab.kernel.accessAllowed ? 'block' : 'none';\n",
              "\n",
              "        async function convertToInteractive(key) {\n",
              "          const element = document.querySelector('#df-dda6be03-656c-4e45-acd6-79f8c10bce44');\n",
              "          const dataTable =\n",
              "            await google.colab.kernel.invokeFunction('convertToInteractive',\n",
              "                                                     [key], {});\n",
              "          if (!dataTable) return;\n",
              "\n",
              "          const docLinkHtml = 'Like what you see? Visit the ' +\n",
              "            '<a target=\"_blank\" href=https://colab.research.google.com/notebooks/data_table.ipynb>data table notebook</a>'\n",
              "            + ' to learn more about interactive tables.';\n",
              "          element.innerHTML = '';\n",
              "          dataTable['output_type'] = 'display_data';\n",
              "          await google.colab.output.renderOutput(dataTable, element);\n",
              "          const docLink = document.createElement('div');\n",
              "          docLink.innerHTML = docLinkHtml;\n",
              "          element.appendChild(docLink);\n",
              "        }\n",
              "      </script>\n",
              "    </div>\n",
              "  </div>\n",
              "  "
            ],
            "text/plain": [
              "            total_bill       tip      size\n",
              "total_bill    1.000000  0.675734  0.598315\n",
              "tip           0.675734  1.000000  0.489299\n",
              "size          0.598315  0.489299  1.000000"
            ]
          },
          "metadata": {},
          "execution_count": 26
        }
      ]
    },
    {
      "cell_type": "code",
      "source": [
        "sns.set()\n",
        "sns.pairplot(tips, height = 4)\n",
        "\n",
        "plt.show()"
      ],
      "metadata": {
        "colab": {
          "base_uri": "https://localhost:8080/",
          "height": 866
        },
        "id": "bLKSy7RkQ8gU",
        "outputId": "8aea10fb-23cf-4eab-d13b-82a24c15aae8"
      },
      "execution_count": null,
      "outputs": [
        {
          "output_type": "display_data",
          "data": {
            "image/png": "[encoded data removed]",
            "text/plain": [
              "<Figure size 864x864 with 12 Axes>"
            ]
          },
          "metadata": {}
        }
      ]
    },
    {
      "cell_type": "code",
      "source": [
        "plt.figure(figsize=(5,5))\n",
        "sns.heatmap(tips.corr(),annot=True,cmap='viridis')\n",
        "plt.ylim(5, 0) "
      ],
      "metadata": {
        "colab": {
          "base_uri": "https://localhost:8080/",
          "height": 344
        },
        "id": "N0XJgPhzRZz5",
        "outputId": "cd53d338-8ca8-4382-e656-c76f3dc620e0"
      },
      "execution_count": null,
      "outputs": [
        {
          "output_type": "execute_result",
          "data": {
            "text/plain": [
              "(5.0, 0.0)"
            ]
          },
          "metadata": {},
          "execution_count": 29
        },
        {
          "output_type": "display_data",
          "data": {
            "image/png": "[encoded data removed]",
            "text/plain": [
              "<Figure size 360x360 with 2 Axes>"
            ]
          },
          "metadata": {}
        }
      ]
    }
  ]
}